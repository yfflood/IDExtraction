{
 "cells": [
  {
   "cell_type": "markdown",
   "metadata": {},
   "source": [
    "# Schema extraction\n",
    "\n",
    "## Schema definition\n",
    "\n"
   ]
  },
  {
   "cell_type": "code",
   "execution_count": 1,
   "metadata": {},
   "outputs": [],
   "source": [
    "node_schema = {\n",
    "    'name': '',\n",
    "    'type': '',\n",
    "    'values': ['']\n",
    "}\n",
    "\n",
    "# conditions and condition_values should be matched\n",
    "# value should be in the values of the variable\n",
    "arc_schema = {\n",
    "    'conditions': [''],\n",
    "    'condition_values': [''],\n",
    "    'variable': '',\n",
    "    'value': '',\n",
    "    'probability': ''\n",
    "}"
   ]
  },
  {
   "cell_type": "code",
   "execution_count": 1,
   "metadata": {},
   "outputs": [],
   "source": [
    "import os\n",
    "\n",
    "from zhipuai import ZhipuAI\n",
    "from langchain_community.chat_models import ChatZhipuAI\n",
    "from langchain_core.messages import AIMessage, HumanMessage, SystemMessage\n",
    "from langchain.prompts import ChatPromptTemplate\n",
    "\n",
    "os.environ[\"ZHIPUAI_API_KEY\"] = '8adac289dfd59cb2006ccea31a82efab.GhrrpvmaygKVqjxS'\n",
    "\n",
    "\n",
    "llm = ChatZhipuAI(\n",
    "    temperature=0,\n",
    "    model=\"glm-4\"\n",
    ")"
   ]
  },
  {
   "cell_type": "code",
   "execution_count": 2,
   "metadata": {},
   "outputs": [],
   "source": [
    "from langchain_core.pydantic_v1 import BaseModel, Field\n",
    "from langchain_core.output_parsers import JsonOutputParser\n",
    "from langchain_core.prompts import PromptTemplate\n",
    "\n",
    "from typing import List\n",
    "\n",
    "\n",
    "extract_template = \"\"\"\\\n",
    "For the following text, identify the fundamental goal inplied by the context (which may not directly appear in the text), and extract every variable, action or event. Output using the following format:\n",
    "\n",
    "name: Extract the core concept or variable\\\n",
    "related to decision-making, and output its name.\n",
    "    \n",
    "type: What is the nature of the variable? \\\n",
    "If it is an aleatory variable that cannot be intervened, output 'chance';\\\n",
    "if it can be intervened and represents a decision to be made, output 'decision';\\\n",
    "if it reflects the fundamental goal of decision-maker in the setting, output 'utility'.\n",
    "\n",
    "values: Extract the possible values of the variable, complete with common knowledge if necessary, and output them as a Python list.\n",
    "\n",
    "text: {text}\n",
    "\n",
    "{format_instructions}\n",
    "\"\"\"\n",
    "\n",
    "class Node(BaseModel):\n",
    "    variable_name: str = Field(description=\"Extract the core concept or variable related to decision-making, and output its name.\")\n",
    "    variable_type: str = Field(description=\"What is the nature of the variable? If it is an aleatory variable that cannot be intervened, output 'chance'; if it can be intervened and represents a decision to be made, output 'decision'; if it reflects the fundamental goal of decision-maker in the setting, output 'utility'.\")\n",
    "    values: list = Field(description=\"Extract the possible values of the variable, complete with common knowledge if necessary, and output them as a Python list.\")\n",
    "\n",
    "class List_of_Nodes(BaseModel):\n",
    "    node_list: List[Node]\n",
    "\n",
    "parser = JsonOutputParser(pydantic_object=List_of_Nodes)\n",
    "\n",
    "prompt = PromptTemplate(\n",
    "    template=extract_template,\n",
    "    input_variables=[\"text\"],\n",
    "    partial_variables={\"format_instructions\": parser.get_format_instructions()},\n",
    ")\n",
    "\n",
    "chain = prompt | llm | parser\n",
    "\n",
    "text = \"\"\"Openings connecting upper and\n",
    "lower floors within buildings compromise the in-\n",
    "tegrity of fire compartments, potentially leading to\n",
    "the spread of fire across multiple areas and floors.\n",
    "Therefore, reliable fire separation measures should\n",
    "be implemented in these connected spaces to pre-\n",
    "vent the rapid upward spread of fire.\"\"\"\n",
    "\n",
    "contents = chain.invoke({\"text\": text})"
   ]
  },
  {
   "cell_type": "code",
   "execution_count": 3,
   "metadata": {},
   "outputs": [
    {
     "data": {
      "text/plain": [
       "[{'variable_name': 'Fire_Separation_Measures',\n",
       "  'variable_type': 'decision',\n",
       "  'values': ['Implement', 'Not_Implement']},\n",
       " {'variable_name': 'Fire_Spread',\n",
       "  'variable_type': 'chance',\n",
       "  'values': ['Rapid_Upward', 'Contained']},\n",
       " {'variable_name': 'Fire_Integrity_Compromise',\n",
       "  'variable_type': 'chance',\n",
       "  'values': ['Compromised', 'Intact']},\n",
       " {'variable_name': 'Utility',\n",
       "  'variable_type': 'utility',\n",
       "  'values': ['Prevent_Rapid_Upward_Spread']}]"
      ]
     },
     "execution_count": 3,
     "metadata": {},
     "output_type": "execute_result"
    }
   ],
   "source": [
    "contents['node_list']"
   ]
  }
 ],
 "metadata": {
  "kernelspec": {
   "display_name": "py39cid",
   "language": "python",
   "name": "python3"
  },
  "language_info": {
   "codemirror_mode": {
    "name": "ipython",
    "version": 3
   },
   "file_extension": ".py",
   "mimetype": "text/x-python",
   "name": "python",
   "nbconvert_exporter": "python",
   "pygments_lexer": "ipython3",
   "version": "3.9.17"
  }
 },
 "nbformat": 4,
 "nbformat_minor": 2
}
