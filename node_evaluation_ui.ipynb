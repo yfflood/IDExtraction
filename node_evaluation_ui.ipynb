{
 "cells": [
  {
   "cell_type": "markdown",
   "metadata": {},
   "source": [
    "# Node evaluation\n",
    "\n",
    "For each file, a list of annotated nodes are available. \n",
    "- show the annotated nodes\n",
    "- show the text in the file\n",
    "- show extracted nodes one by one"
   ]
  },
  {
   "cell_type": "code",
   "execution_count": null,
   "metadata": {},
   "outputs": [],
   "source": [
    "import os\n",
    "import json\n",
    "import csv\n",
    "import ipywidgets as widgets\n",
    "from IPython.display import display, clear_output\n",
    "\n",
    "import numpy as np\n",
    "from pprint import pprint"
   ]
  },
  {
   "cell_type": "markdown",
   "metadata": {},
   "source": [
    "**Variable name**: Is this variable [variable_name] present in the annotation or in the text?\n",
    "- choice: y or n"
   ]
  },
  {
   "cell_type": "code",
   "execution_count": null,
   "metadata": {},
   "outputs": [],
   "source": [
    "def annotate_name_lists(list1, list2):\n",
    "    results = []\n",
    "    toggle_button = widgets.ToggleButtons(\n",
    "        options=[('yes', 1), ('no', 0)],\n",
    "        description='',\n",
    "        disabled=False\n",
    "    )\n",
    "    confirmation_button = widgets.Button(description=\"Confirm\")\n",
    "    out = widgets.Output()\n",
    "    \n",
    "    def on_confirm_button_clicked(b):\n",
    "        with out:\n",
    "            clear_output()  # Clear previous output\n",
    "            result = toggle_button.value\n",
    "            results.append(result)\n",
    "            show_next_item()\n",
    "\n",
    "    def show_next_item():\n",
    "        with out:\n",
    "            clear_output()  # Clear previous output\n",
    "            if list1:\n",
    "                item = list1.pop(0)\n",
    "                pprint(f\"List 2: {list2}\")\n",
    "                toggle_button.description = f\"{item}: Belongs to list2?\"\n",
    "                display(toggle_button)\n",
    "                display(confirmation_button)\n",
    "            else:\n",
    "                print(\"Annotation complete.\")\n",
    "                print(\"Results:\", results)\n",
    "                annotate_name_lists.result = results  # Store results in a function attribute\n",
    "    \n",
    "    confirmation_button.on_click(on_confirm_button_clicked)\n",
    "    \n",
    "    display(out)\n",
    "    show_next_item()"
   ]
  },
  {
   "cell_type": "code",
   "execution_count": null,
   "metadata": {},
   "outputs": [],
   "source": [
    "def annotate_type_lists(list1, list2):\n",
    "    \"\"\" note: lists contain nodes (Dict)\"\"\"\n",
    "    results = []\n",
    "    toggle_button = widgets.ToggleButtons(\n",
    "        options=[('yes', 1), ('no', 0)],\n",
    "        description='',\n",
    "        disabled=False\n",
    "    )\n",
    "    confirmation_button = widgets.Button(description=\"Confirm\")\n",
    "    out = widgets.Output()\n",
    "    \n",
    "    def on_confirm_button_clicked(b):\n",
    "        with out:\n",
    "            clear_output()  # Clear previous output\n",
    "            result = toggle_button.value\n",
    "            results.append(result)\n",
    "            show_next_item()\n",
    "    \n",
    "    def on_toggle_button_change(change):\n",
    "        with out:\n",
    "            clear_output()  # Clear previous output\n",
    "            print(f\"Current choice: {change['new']}\")\n",
    "            print(f\"List 2: {list2}\")\n",
    "            display(toggle_button)\n",
    "            display(confirmation_button)\n",
    "\n",
    "    def show_next_item():\n",
    "        with out:\n",
    "            clear_output()  # Clear previous output\n",
    "            if list1:\n",
    "                item = list1.pop(0)\n",
    "\n",
    "                pprint(f\"List: {list2}\")\n",
    "                toggle_button.description = f\"Is [{item[0]}] a [{item[1]}] node?\"\n",
    "                display(toggle_button)\n",
    "                display(confirmation_button)\n",
    "            else:\n",
    "                print(\"Annotation complete.\")\n",
    "                print(\"Results:\", results)\n",
    "                annotate_name_lists.result = results  # Store results in a function attribute\n",
    "    \n",
    "    confirmation_button.on_click(on_confirm_button_clicked)\n",
    "    #toggle_button.observe(on_toggle_button_change, names='value')\n",
    "    \n",
    "    display(out)\n",
    "    show_next_item()"
   ]
  },
  {
   "cell_type": "code",
   "execution_count": null,
   "metadata": {},
   "outputs": [],
   "source": [
    "def annotate_values_lists(list1, list2): #TODO\n",
    "    \"\"\" note: lists contain nodes (Dict)\"\"\"\n",
    "    results = []\n",
    "    index = 0\n",
    "    \n",
    "    out = widgets.Output()\n",
    "\n",
    "    def annotate_next(index):\n",
    "        if index >= len(list1):\n",
    "            with out:\n",
    "                print(\"Annotations complete.\")\n",
    "                print(\"Results:\", results)\n",
    "            annotate_values_lists.result = results\n",
    "            return\n",
    "        \n",
    "        item1 = list1[index]\n",
    "        item1_name = item1[\"variable_name\"]\n",
    "        item1_values = item1[\"values\"]\n",
    "        \n",
    "        slider = widgets.IntSlider(\n",
    "            min=0,\n",
    "            max=len(item1[\"values\"]),\n",
    "            description=item1[\"variable_name\"])\n",
    "        confirm_button = widgets.Button(description=\"Confirm\")\n",
    "        slider2 = widgets.IntSlider(\n",
    "            min=0,\n",
    "            max=10,\n",
    "            description=\"counterpart num values:\")\n",
    "\n",
    "        with out:\n",
    "            print(f\"How many values of [{item1_name}] appear in its counterpart's values in List 2?\\n Values: {item1_values}\\n\\nList 2:\")\n",
    "            for i in range(len(list2)):\n",
    "                pprint(list2[i])\n",
    "            display(slider)\n",
    "\n",
    "            print(f\"How many values does [{item1_name}]'s counterpart in List 2 has?\")\n",
    "            display(slider2)\n",
    "\n",
    "            display(confirm_button)\n",
    "\n",
    "\n",
    "        def on_confirm_button_clicked(b):\n",
    "            with out:\n",
    "                result = slider.value\n",
    "                len_item2_values = slider2.value\n",
    "                precision = result / len(item1_values) if len(item1_values) > 0 else 1.0\n",
    "                recall = result / len_item2_values if len_item2_values > 0 else 1.0\n",
    "                if precision > 1:\n",
    "                    precision = 1.0\n",
    "                if recall > 1:\n",
    "                    recall = 1.0\n",
    "                results.append((precision, recall))\n",
    "\n",
    "                clear_output()\n",
    "                annotate_next(index + 1)\n",
    "\n",
    "        confirm_button.on_click(on_confirm_button_clicked)\n",
    "\n",
    "    display(out)\n",
    "    annotate_next(index)"
   ]
  },
  {
   "cell_type": "code",
   "execution_count": null,
   "metadata": {},
   "outputs": [],
   "source": [
    "# config dir\n",
    "node_label_dir = \"./data/node_adjusted\"\n",
    "node_extract_dir = \"./experiments/node/few_shot/nodes_1shot_0\"\n",
    "node_label_files = os.listdir(node_label_dir)\n"
   ]
  },
  {
   "cell_type": "raw",
   "metadata": {
    "vscode": {
     "languageId": "raw"
    }
   },
   "source": [
    "# CAUTION：RUN ONCE\n",
    "with open(\"evaluation_human/node/nodes_1shot_0.csv\", \"w\", encoding=\"utf-8\", newline=\"\") as f:\n",
    "    csv_writer = csv.writer(f)\n",
    "\n",
    "    header = [\"file\", \"precision\", \"recall\", \"type_acc\", \"value_precision\", \"value_recall\"]\n",
    "    csv_writer.writerow(header)"
   ]
  },
  {
   "cell_type": "markdown",
   "metadata": {},
   "source": [
    "# restart HERE ▶"
   ]
  },
  {
   "cell_type": "code",
   "execution_count": null,
   "metadata": {},
   "outputs": [],
   "source": [
    "# pop a new file\n",
    "file = node_label_files.pop(0) # allow manual set\n",
    "print(f\"{file}; {len(node_label_files)} remaining.\")\n"
   ]
  },
  {
   "cell_type": "code",
   "execution_count": null,
   "metadata": {},
   "outputs": [],
   "source": [
    "# evaluate: variable name\n",
    "print(f\"{file}; {len(node_label_files)} remaining.\")\n",
    "\n",
    "with open(f\"{node_label_dir}/{file}\", \"r\", encoding='utf-8') as f:\n",
    "    nodes_label = json.load(f)\n",
    "with open(f\"{node_extract_dir}/{file}\", \"r\", encoding='utf-8') as f:\n",
    "    nodes_extract = json.load(f)\n",
    "\n",
    "names_label = [node[\"variable_name\"] for node in nodes_label]\n",
    "names_extract = [node[\"variable_name\"] for node in nodes_extract]\n",
    "\n",
    "print(\"List2: labels\")\n",
    "annotate_name_lists(names_extract, names_label)"
   ]
  },
  {
   "cell_type": "code",
   "execution_count": null,
   "metadata": {},
   "outputs": [],
   "source": [
    "results = getattr(annotate_name_lists, 'result', None)\n",
    "print(\"Final Results:\", results)\n",
    "\n",
    "precision = np.sum(results)/len(nodes_extract)\n",
    "if precision > 1:\n",
    "    precision = 1.0\n",
    "print(\"Precision:\", precision)\n",
    "\n",
    "recall = np.sum(results)/len(nodes_label)\n",
    "if recall > 1:\n",
    "    recall = 1.0\n",
    "print(\"Recall:\", recall)\n",
    "\n",
    "successful_nodes_extract = [nodes_extract[i] for i in range(len(nodes_extract)) if results[i]]"
   ]
  },
  {
   "cell_type": "markdown",
   "metadata": {},
   "source": [
    "**Variable type**: `annotate_type_lists` Is this variable [variable_name] a [variable_type] node?\n",
    "- choice: y or n"
   ]
  },
  {
   "cell_type": "code",
   "execution_count": null,
   "metadata": {},
   "outputs": [],
   "source": [
    "# evaluate: variable type (1/1)\n",
    "\n",
    "print(f\"{file}; {len(node_label_files)} remaining.\")\n",
    "\n",
    "with open(f\"{node_label_dir}/{file}\", \"r\", encoding='utf-8') as f:\n",
    "    nodes_label = json.load(f)\n",
    "with open(f\"{node_extract_dir}/{file}\", \"r\", encoding='utf-8') as f:\n",
    "    nodes_extract = json.load(f)\n",
    "types_label = [(node[\"variable_name\"],node[\"variable_type\"]) for node in nodes_label]\n",
    "types_extract = [(node[\"variable_name\"],node[\"variable_type\"]) for node in successful_nodes_extract]\n",
    "\n",
    "annotate_type_lists(types_extract,types_label)"
   ]
  },
  {
   "cell_type": "code",
   "execution_count": null,
   "metadata": {},
   "outputs": [],
   "source": [
    "results = getattr(annotate_name_lists, 'result', None)\n",
    "print(\"Final Results:\", results)\n",
    "\n",
    "type_acc = np.sum(results)/len(results)\n",
    "print(\"Type Accuracy:\", np.sum(results)/len(results))"
   ]
  },
  {
   "cell_type": "markdown",
   "metadata": {},
   "source": [
    "**Values**: (For extracted variables that appear in the annotation) \n",
    "- Is this extracted value [value] present in the annotation?\n",
    "- Is this annotated value [value] present in the extraction?\n",
    "\n",
    "Use slider: how many are present?"
   ]
  },
  {
   "cell_type": "code",
   "execution_count": null,
   "metadata": {},
   "outputs": [],
   "source": [
    "print(f\"{file}; {len(node_label_files)} remaining.\")\n",
    "\n",
    "annotate_values_lists(successful_nodes_extract, nodes_label)"
   ]
  },
  {
   "cell_type": "code",
   "execution_count": null,
   "metadata": {},
   "outputs": [],
   "source": [
    "results = getattr(annotate_values_lists, 'result', None)\n",
    "print(\"Final Results:\", results)\n",
    "\n",
    "value_precision = np.mean([precision for precision, recall in results])\n",
    "value_recall = np.mean([recall for precision, recall in results])\n",
    "\n",
    "file, precision, recall, type_acc, value_precision, value_recall"
   ]
  },
  {
   "cell_type": "code",
   "execution_count": null,
   "metadata": {},
   "outputs": [],
   "source": [
    "with open(\"evaluation_human/node/nodes_1shot_0.csv\", \"a\", encoding=\"utf-8\", newline=\"\") as f:\n",
    "    csv_writer = csv.writer(f)\n",
    "\n",
    "    row = [file, precision, recall, type_acc, value_precision, value_recall]\n",
    "    csv_writer.writerow(row)"
   ]
  },
  {
   "cell_type": "code",
   "execution_count": null,
   "metadata": {},
   "outputs": [],
   "source": []
  }
 ],
 "metadata": {
  "kernelspec": {
   "display_name": "py39cid",
   "language": "python",
   "name": "python3"
  },
  "language_info": {
   "codemirror_mode": {
    "name": "ipython",
    "version": 3
   },
   "file_extension": ".py",
   "mimetype": "text/x-python",
   "name": "python",
   "nbconvert_exporter": "python",
   "pygments_lexer": "ipython3",
   "version": "3.9.17"
  }
 },
 "nbformat": 4,
 "nbformat_minor": 2
}
